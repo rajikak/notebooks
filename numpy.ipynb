{
 "cells": [
  {
   "cell_type": "markdown",
   "metadata": {},
   "source": [
    "### NumPy Experiements "
   ]
  },
  {
   "cell_type": "code",
   "execution_count": 1,
   "metadata": {},
   "outputs": [
    {
     "name": "stdout",
     "output_type": "stream",
     "text": [
      "<class 'numpy.ndarray'>\n",
      "(3,)\n",
      "3 33 333\n",
      "[888  33 333]\n",
      "[[11 12 13]\n",
      " [21 22 21]]\n",
      "(2, 3)\n",
      "11 12\n",
      "[[0. 0.]\n",
      " [0. 0.]]\n",
      "[[0.9 0.9]\n",
      " [0.9 0.9]]\n",
      "[[1. 0.]\n",
      " [0. 1.]]\n",
      "[[1. 1.]]\n",
      "[[12 13]\n",
      " [22 23]]\n",
      "[21 22 23 24] (4,)\n",
      "[[11 12 13 14]\n",
      " [21 22 23 24]] (2, 4)\n",
      "[12 22 32] (3,)\n",
      "[[12]\n",
      " [22]\n",
      " [32]] (3, 1)\n",
      "[0 1 2 0]\n",
      "[0 1 2 3]\n"
     ]
    }
   ],
   "source": [
    "import numpy as np\n",
    "\n",
    "# numpy examples\n",
    "an_array = np.array([3, 33, 333])\n",
    "print(type(an_array))\n",
    "\n",
    "print(an_array.shape)\n",
    "print(an_array[0], an_array[1], an_array[2])\n",
    "an_array[0] = 888\n",
    "print(an_array)\n",
    "\n",
    "# rank 2 arrays (2 D arrays) and accessing arrays\n",
    "another = np.array([[11, 12, 13], [21, 22, 21]])\n",
    "print(another)\n",
    "print(another.shape)\n",
    "print(another[0, 0], another[0, 1])\n",
    "\n",
    "# create arrays\n",
    "ex1 = np.zeros((2, 2))\n",
    "print(ex1)\n",
    "\n",
    "# create an array filled with 9.0\n",
    "ex2 = np.full((2, 2), 0.9)\n",
    "print(ex2)\n",
    "\n",
    "# eigon matrix\n",
    "ex3 = np.eye(2, 2)\n",
    "print(ex3)\n",
    "\n",
    "# array of ones\n",
    "ex4 = np.ones((1, 2))\n",
    "print(ex4)\n",
    "\n",
    "# array indexing - for querying\n",
    "an_array = np.array([[11, 12, 13, 14], [21, 22, 23, 24], [31, 32, 33, 34]])\n",
    "s = an_array[:2, 1:3]\n",
    "print(s)\n",
    "\n",
    "row_rank1 = an_array[1, :]\n",
    "print(row_rank1, row_rank1.shape)\n",
    "\n",
    "row_rank2 = an_array[0:2, :]\n",
    "print(row_rank2, row_rank2.shape)\n",
    "\n",
    "col_rank1 = an_array[:, 1]\n",
    "print(col_rank1, col_rank1.shape)  # note extra []\n",
    "\n",
    "col_rank2 = an_array[:, 1:2]\n",
    "print(col_rank2, col_rank2.shape)  # note extra []\n",
    "\n",
    "# array indexing for modifying underline arrays\n",
    "an_array = np.array([[11, 12, 13, 14], [21, 22, 23, 24], [31, 32, 33, 34]])\n",
    "col_indices = np.array([0, 1, 2, 0])\n",
    "print(col_indices)\n",
    "\n",
    "row_indices = np.arange(4)\n",
    "print(row_indices)\n"
   ]
  },
  {
   "cell_type": "code",
   "execution_count": 3,
   "metadata": {},
   "outputs": [
    {
     "name": "stdout",
     "output_type": "stream",
     "text": [
      "0 , 0\n",
      "1 , 1\n",
      "2 , 2\n",
      "3 , 0\n"
     ]
    }
   ],
   "source": [
    "# pairing of row indieces and col indices\n",
    "for row, col in zip(row_indices, col_indices):\n",
    "    print(row, ',', col)"
   ]
  },
  {
   "cell_type": "code",
   "execution_count": 5,
   "metadata": {},
   "outputs": [
    {
     "data": {
      "text/plain": [
       "array([[11, 12],\n",
       "       [21, 22],\n",
       "       [31, 32]])"
      ]
     },
     "execution_count": 5,
     "metadata": {},
     "output_type": "execute_result"
    }
   ],
   "source": [
    "# boolean indexing\n",
    "an_array = np.array([[11, 12],[21, 22], [31, 32]])\n",
    "an_array"
   ]
  },
  {
   "cell_type": "code",
   "execution_count": 7,
   "metadata": {},
   "outputs": [
    {
     "data": {
      "text/plain": [
       "array([[False, False],\n",
       "       [ True,  True],\n",
       "       [ True,  True]])"
      ]
     },
     "execution_count": 7,
     "metadata": {},
     "output_type": "execute_result"
    }
   ],
   "source": [
    "# filter, if each value is greater than 15\n",
    "filter = (an_array > 15)\n",
    "filter"
   ]
  },
  {
   "cell_type": "code",
   "execution_count": 8,
   "metadata": {},
   "outputs": [
    {
     "data": {
      "text/plain": [
       "array([21, 22, 31, 32])"
      ]
     },
     "execution_count": 8,
     "metadata": {},
     "output_type": "execute_result"
    }
   ],
   "source": [
    "# select elements using flter\n",
    "an_array[filter]"
   ]
  },
  {
   "cell_type": "code",
   "execution_count": 9,
   "metadata": {},
   "outputs": [
    {
     "data": {
      "text/plain": [
       "array([21, 22, 31, 32])"
      ]
     },
     "execution_count": 9,
     "metadata": {},
     "output_type": "execute_result"
    }
   ],
   "source": [
    "# short form\n",
    "an_array[an_array > 15]"
   ]
  },
  {
   "cell_type": "code",
   "execution_count": 11,
   "metadata": {},
   "outputs": [
    {
     "data": {
      "text/plain": [
       "array([[ 11, 212],\n",
       "       [ 21, 222],\n",
       "       [ 31, 232]])"
      ]
     },
     "execution_count": 11,
     "metadata": {},
     "output_type": "execute_result"
    }
   ],
   "source": [
    "# adding a 100 to even values \n",
    "an_array[an_array % 2 == 0] += 100\n",
    "an_array"
   ]
  },
  {
   "cell_type": "code",
   "execution_count": 12,
   "metadata": {},
   "outputs": [
    {
     "data": {
      "text/plain": [
       "dtype('int64')"
      ]
     },
     "execution_count": 12,
     "metadata": {},
     "output_type": "execute_result"
    }
   ],
   "source": [
    "# data types -- python assigns the data type\n",
    "ex1 = np.array([11, 12])\n",
    "ex1.dtype"
   ]
  },
  {
   "cell_type": "code",
   "execution_count": 13,
   "metadata": {},
   "outputs": [
    {
     "data": {
      "text/plain": [
       "dtype('float64')"
      ]
     },
     "execution_count": 13,
     "metadata": {},
     "output_type": "execute_result"
    }
   ],
   "source": [
    "ex2 = np.array([11.0, 12.0])\n",
    "ex2.dtype"
   ]
  },
  {
   "cell_type": "code",
   "execution_count": 16,
   "metadata": {},
   "outputs": [
    {
     "data": {
      "text/plain": [
       "dtype('int64')"
      ]
     },
     "execution_count": 16,
     "metadata": {},
     "output_type": "execute_result"
    }
   ],
   "source": [
    "# we can also tell python which data type to use\n",
    "ex3 = np.array([11, 21], dtype=np.int64)\n",
    "ex3.dtype"
   ]
  },
  {
   "cell_type": "code",
   "execution_count": 21,
   "metadata": {},
   "outputs": [
    {
     "data": {
      "text/plain": [
       "dtype('float64')"
      ]
     },
     "execution_count": 21,
     "metadata": {},
     "output_type": "execute_result"
    }
   ],
   "source": [
    "# can force float into int\n",
    "ex4 = np.array([11, 21], dtype=np.float64)\n",
    "ex4.dtype\n"
   ]
  },
  {
   "cell_type": "code",
   "execution_count": 22,
   "metadata": {},
   "outputs": [
    {
     "data": {
      "text/plain": [
       "dtype('int64')"
      ]
     },
     "execution_count": 22,
     "metadata": {},
     "output_type": "execute_result"
    }
   ],
   "source": [
    "\n",
    "ex5 = np.array([11.1, 12.7], dtype=np.int64)\n",
    "ex5.dtype"
   ]
  },
  {
   "cell_type": "code",
   "execution_count": 23,
   "metadata": {},
   "outputs": [
    {
     "data": {
      "text/plain": [
       "array([11, 12])"
      ]
     },
     "execution_count": 23,
     "metadata": {},
     "output_type": "execute_result"
    }
   ],
   "source": [
    "ex5"
   ]
  },
  {
   "cell_type": "code",
   "execution_count": 24,
   "metadata": {},
   "outputs": [
    {
     "name": "stdout",
     "output_type": "stream",
     "text": [
      "[[111 112]\n",
      " [121 122]]\n",
      "[[211.1 212.1]\n",
      " [221.1 222.1]]\n"
     ]
    }
   ],
   "source": [
    "# arithmatic operations\n",
    "x = np.array([[111, 112], [121, 122]], dtype=np.int)\n",
    "y = np.array([[211.1, 212.1],[221.1, 222.1]], dtype=np.float64)\n",
    "print(x)\n",
    "print(y)\n"
   ]
  },
  {
   "cell_type": "code",
   "execution_count": 33,
   "metadata": {},
   "outputs": [
    {
     "name": "stdout",
     "output_type": "stream",
     "text": [
      "[[322.1 324.1]\n",
      " [342.1 344.1]]\n",
      "[[322.1 324.1]\n",
      " [342.1 344.1]]\n",
      "[[-100.1 -100.1]\n",
      " [-100.1 -100.1]]\n",
      "[[-100.1 -100.1]\n",
      " [-100.1 -100.1]]\n",
      "[[23432.1 23755.2]\n",
      " [26753.1 27096.2]]\n",
      "[[23432.1 23755.2]\n",
      " [26753.1 27096.2]]\n",
      "[[0.52581715 0.52805281]\n",
      " [0.54726368 0.54930212]]\n",
      "[[0.52581715 0.52805281]\n",
      " [0.54726368 0.54930212]]\n",
      "[[10.53565375 10.58300524]\n",
      " [11.         11.04536102]]\n",
      "[[1.60948707e+48 4.37503945e+48]\n",
      " [3.54513118e+52 9.63666567e+52]]\n"
     ]
    }
   ],
   "source": [
    "# add, sub, mul, div \n",
    "print(x + y)\n",
    "print(np.add(x,y))\n",
    "print(x - y)\n",
    "print(np.subtract(x, y))\n",
    "print(x*y)\n",
    "print(np.multiply(x, y))\n",
    "print(x / y)\n",
    "print(np.divide(x, y))\n",
    "print(np.sqrt(x))\n",
    "print(np.exp(x)) # e ^ x"
   ]
  },
  {
   "cell_type": "code",
   "execution_count": 34,
   "metadata": {},
   "outputs": [
    {
     "name": "stdout",
     "output_type": "stream",
     "text": [
      "[[ 11.44112267 -13.18234987  -1.93323395  -2.96717049   3.55955313]\n",
      " [ -4.92677581 -13.62490726   2.69626024  16.80383028   0.05108676]]\n"
     ]
    }
   ],
   "source": [
    "# statistical operations\n",
    "arr = 10 * np.random.randn(2, 5)\n",
    "print(arr)"
   ]
  },
  {
   "cell_type": "code",
   "execution_count": 35,
   "metadata": {},
   "outputs": [
    {
     "name": "stdout",
     "output_type": "stream",
     "text": [
      "-0.20825842884377804\n"
     ]
    }
   ],
   "source": [
    "# mean of all element\n",
    "print(arr.mean())"
   ]
  },
  {
   "cell_type": "code",
   "execution_count": 36,
   "metadata": {},
   "outputs": [
    {
     "name": "stdout",
     "output_type": "stream",
     "text": [
      "[-0.6164157   0.19989884]\n"
     ]
    }
   ],
   "source": [
    "# mean by row\n",
    "print(arr.mean(axis = 1))"
   ]
  },
  {
   "cell_type": "code",
   "execution_count": 38,
   "metadata": {},
   "outputs": [
    {
     "name": "stdout",
     "output_type": "stream",
     "text": [
      "[  3.25717343 -13.40362857   0.38151315   6.9183299    1.80531994]\n"
     ]
    }
   ],
   "source": [
    "# mean by column\n",
    "print(arr.mean(axis = 0))"
   ]
  },
  {
   "cell_type": "code",
   "execution_count": 39,
   "metadata": {},
   "outputs": [
    {
     "name": "stdout",
     "output_type": "stream",
     "text": [
      "-2.0825842884377805\n"
     ]
    }
   ],
   "source": [
    "# sum of all elements\n",
    "print(arr.sum())"
   ]
  },
  {
   "cell_type": "code",
   "execution_count": 40,
   "metadata": {},
   "outputs": [
    {
     "name": "stdout",
     "output_type": "stream",
     "text": [
      "[-1.93323395  0.05108676]\n"
     ]
    }
   ],
   "source": [
    "# median\n",
    "print(np.median(arr, axis = 1))"
   ]
  },
  {
   "cell_type": "code",
   "execution_count": 41,
   "metadata": {},
   "outputs": [
    {
     "name": "stdout",
     "output_type": "stream",
     "text": [
      "[ 0.49065493  0.79005426  0.24063051  0.91197027 -0.2414351  -1.04348764\n",
      "  1.16030628 -1.14853832 -0.99853143 -0.58412347]\n"
     ]
    }
   ],
   "source": [
    "# sorting \n",
    "unsorted = np.random.randn(10)\n",
    "print(unsorted)"
   ]
  },
  {
   "cell_type": "code",
   "execution_count": 43,
   "metadata": {},
   "outputs": [
    {
     "name": "stdout",
     "output_type": "stream",
     "text": [
      "[-1.14853832 -1.04348764 -0.99853143 -0.58412347 -0.2414351   0.24063051\n",
      "  0.49065493  0.79005426  0.91197027  1.16030628]\n"
     ]
    }
   ],
   "source": [
    "# create a copy and sort\n",
    "sorted = np.array(unsorted)\n",
    "sorted.sort()\n",
    "print(sorted)"
   ]
  },
  {
   "cell_type": "code",
   "execution_count": 44,
   "metadata": {},
   "outputs": [
    {
     "name": "stdout",
     "output_type": "stream",
     "text": [
      "[-1.14853832 -1.04348764 -0.99853143 -0.58412347 -0.2414351   0.24063051\n",
      "  0.49065493  0.79005426  0.91197027  1.16030628]\n"
     ]
    }
   ],
   "source": [
    "# inplace sorting\n",
    "unsorted.sort()\n",
    "print(unsorted)"
   ]
  },
  {
   "cell_type": "code",
   "execution_count": 45,
   "metadata": {},
   "outputs": [
    {
     "name": "stdout",
     "output_type": "stream",
     "text": [
      "[1 2 4]\n"
     ]
    }
   ],
   "source": [
    "# unique elements\n",
    "array = np.array([1, 2, 1, 4, 2, 1, 4, 2])\n",
    "print(np.unique(array))"
   ]
  },
  {
   "cell_type": "code",
   "execution_count": 46,
   "metadata": {},
   "outputs": [
    {
     "name": "stdout",
     "output_type": "stream",
     "text": [
      "['desk' 'chair' 'bulb'] ['lamp' 'blub' 'chair']\n"
     ]
    }
   ],
   "source": [
    "# set operations\n",
    "s1 = np.array(['desk', 'chair', 'bulb'])\n",
    "s2 = np.array(['lamp', 'blub', 'chair'])\n",
    "print(s1, s2)"
   ]
  },
  {
   "cell_type": "code",
   "execution_count": 50,
   "metadata": {},
   "outputs": [
    {
     "name": "stdout",
     "output_type": "stream",
     "text": [
      "['chair']\n"
     ]
    }
   ],
   "source": [
    "print(np.intersect1d(s1, s2))"
   ]
  },
  {
   "cell_type": "code",
   "execution_count": 51,
   "metadata": {},
   "outputs": [
    {
     "name": "stdout",
     "output_type": "stream",
     "text": [
      "['blub' 'bulb' 'chair' 'desk' 'lamp']\n",
      "['bulb' 'desk']\n",
      "[False  True False]\n"
     ]
    }
   ],
   "source": [
    "print(np.union1d(s1, s2)) \n",
    "print(np.setdiff1d(s1, s2))\n",
    "print(np.in1d(s1, s2))"
   ]
  },
  {
   "cell_type": "code",
   "execution_count": 52,
   "metadata": {},
   "outputs": [
    {
     "name": "stdout",
     "output_type": "stream",
     "text": [
      "[[0. 0. 0.]\n",
      " [0. 0. 0.]\n",
      " [0. 0. 0.]\n",
      " [0. 0. 0.]]\n"
     ]
    }
   ],
   "source": [
    "# NumPy broadcasting\n",
    "import numpy as np\n",
    "start = np.zeros((4,3))\n",
    "print(start)"
   ]
  },
  {
   "cell_type": "code",
   "execution_count": 55,
   "metadata": {},
   "outputs": [
    {
     "name": "stdout",
     "output_type": "stream",
     "text": [
      "[[0. 0. 0.]\n",
      " [0. 0. 0.]\n",
      " [0. 0. 0.]\n",
      " [0. 0. 0.]]\n"
     ]
    }
   ],
   "source": [
    "start1 = np.zeros([4,3])\n",
    "print(start1)"
   ]
  },
  {
   "cell_type": "code",
   "execution_count": 56,
   "metadata": {},
   "outputs": [
    {
     "name": "stdout",
     "output_type": "stream",
     "text": [
      "[1 0 2]\n"
     ]
    }
   ],
   "source": [
    "add_rows = np.array([1, 0, 2])\n",
    "print(add_rows)"
   ]
  },
  {
   "cell_type": "code",
   "execution_count": 59,
   "metadata": {},
   "outputs": [
    {
     "name": "stdout",
     "output_type": "stream",
     "text": [
      "[[1. 0. 2.]\n",
      " [1. 0. 2.]\n",
      " [1. 0. 2.]\n",
      " [1. 0. 2.]]\n"
     ]
    }
   ],
   "source": [
    "# row wise addition\n",
    "y = start + add_rows\n",
    "print(y)"
   ]
  },
  {
   "cell_type": "code",
   "execution_count": 61,
   "metadata": {},
   "outputs": [
    {
     "name": "stdout",
     "output_type": "stream",
     "text": [
      "[[0 1 2 3]]\n",
      "[[0]\n",
      " [1]\n",
      " [2]\n",
      " [3]]\n"
     ]
    }
   ],
   "source": [
    "add_cols = np.array([[0, 1, 2, 3]])\n",
    "print(add_cols)\n",
    "add_cols = add_cols.T\n",
    "print(add_cols)"
   ]
  },
  {
   "cell_type": "code",
   "execution_count": 62,
   "metadata": {},
   "outputs": [
    {
     "name": "stdout",
     "output_type": "stream",
     "text": [
      "[[0. 0. 0.]\n",
      " [1. 1. 1.]\n",
      " [2. 2. 2.]\n",
      " [3. 3. 3.]]\n"
     ]
    }
   ],
   "source": [
    "# colum wise addition\n",
    "y = start + add_cols\n",
    "print(y)"
   ]
  },
  {
   "cell_type": "code",
   "execution_count": 63,
   "metadata": {},
   "outputs": [
    {
     "name": "stdout",
     "output_type": "stream",
     "text": [
      "1\n",
      "[[1. 1. 1.]\n",
      " [1. 1. 1.]\n",
      " [1. 1. 1.]\n",
      " [1. 1. 1.]]\n"
     ]
    }
   ],
   "source": [
    "add_scalar = np.array(1)\n",
    "print(add_scalar)\n",
    "print(start + add_scalar)"
   ]
  },
  {
   "cell_type": "code",
   "execution_count": 66,
   "metadata": {},
   "outputs": [
    {
     "name": "stdout",
     "output_type": "stream",
     "text": [
      "[[ 1  2  3  4]\n",
      " [ 5  6  7  8]\n",
      " [ 9 10 11 12]]\n"
     ]
    }
   ],
   "source": [
    "# create a 3x4 matrix\n",
    "A = np.array([[1,2,3,4],[5,6,7,8],[9,10,11,12]])\n",
    "print(A)"
   ]
  },
  {
   "cell_type": "code",
   "execution_count": 67,
   "metadata": {},
   "outputs": [
    {
     "name": "stdout",
     "output_type": "stream",
     "text": [
      "[0 1 0 2]\n"
     ]
    }
   ],
   "source": [
    "# create a 4x1 matrix\n",
    "B = np.array([0,1,0,2])\n",
    "print(B)"
   ]
  },
  {
   "cell_type": "code",
   "execution_count": 68,
   "metadata": {},
   "outputs": [
    {
     "name": "stdout",
     "output_type": "stream",
     "text": [
      "[[ 1  3  3  6]\n",
      " [ 5  7  7 10]\n",
      " [ 9 11 11 14]]\n"
     ]
    }
   ],
   "source": [
    "# add two using broadcasting\n",
    "print(A + B)"
   ]
  },
  {
   "cell_type": "code",
   "execution_count": null,
   "metadata": {},
   "outputs": [],
   "source": []
  }
 ],
 "metadata": {
  "kernelspec": {
   "display_name": "Python 3",
   "language": "python",
   "name": "python3"
  },
  "language_info": {
   "codemirror_mode": {
    "name": "ipython",
    "version": 3
   },
   "file_extension": ".py",
   "mimetype": "text/x-python",
   "name": "python",
   "nbconvert_exporter": "python",
   "pygments_lexer": "ipython3",
   "version": "3.8.2"
  }
 },
 "nbformat": 4,
 "nbformat_minor": 4
}
