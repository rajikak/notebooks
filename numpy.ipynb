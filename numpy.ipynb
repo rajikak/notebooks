{
 "cells": [
  {
   "cell_type": "markdown",
   "metadata": {},
   "source": [
    "### NumPy Experiements "
   ]
  },
  {
   "cell_type": "code",
   "execution_count": 1,
   "metadata": {},
   "outputs": [
    {
     "name": "stdout",
     "output_type": "stream",
     "text": [
      "<class 'numpy.ndarray'>\n",
      "(3,)\n",
      "3 33 333\n",
      "[888  33 333]\n",
      "[[11 12 13]\n",
      " [21 22 21]]\n",
      "(2, 3)\n",
      "11 12\n",
      "[[0. 0.]\n",
      " [0. 0.]]\n",
      "[[0.9 0.9]\n",
      " [0.9 0.9]]\n",
      "[[1. 0.]\n",
      " [0. 1.]]\n",
      "[[1. 1.]]\n",
      "[[12 13]\n",
      " [22 23]]\n",
      "[21 22 23 24] (4,)\n",
      "[[11 12 13 14]\n",
      " [21 22 23 24]] (2, 4)\n",
      "[12 22 32] (3,)\n",
      "[[12]\n",
      " [22]\n",
      " [32]] (3, 1)\n",
      "[0 1 2 0]\n",
      "[0 1 2 3]\n"
     ]
    }
   ],
   "source": [
    "import numpy as np\n",
    "\n",
    "# numpy examples\n",
    "an_array = np.array([3, 33, 333])\n",
    "print(type(an_array))\n",
    "\n",
    "print(an_array.shape)\n",
    "print(an_array[0], an_array[1], an_array[2])\n",
    "an_array[0] = 888\n",
    "print(an_array)\n",
    "\n",
    "# rank 2 arrays (2 D arrays) and accessing arrays\n",
    "another = np.array([[11, 12, 13], [21, 22, 21]])\n",
    "print(another)\n",
    "print(another.shape)\n",
    "print(another[0, 0], another[0, 1])\n",
    "\n",
    "# create arrays\n",
    "ex1 = np.zeros((2, 2))\n",
    "print(ex1)\n",
    "\n",
    "# create an array filled with 9.0\n",
    "ex2 = np.full((2, 2), 0.9)\n",
    "print(ex2)\n",
    "\n",
    "# eigon matrix\n",
    "ex3 = np.eye(2, 2)\n",
    "print(ex3)\n",
    "\n",
    "# array of ones\n",
    "ex4 = np.ones((1, 2))\n",
    "print(ex4)\n",
    "\n",
    "# array indexing - for querying\n",
    "an_array = np.array([[11, 12, 13, 14], [21, 22, 23, 24], [31, 32, 33, 34]])\n",
    "s = an_array[:2, 1:3]\n",
    "print(s)\n",
    "\n",
    "row_rank1 = an_array[1, :]\n",
    "print(row_rank1, row_rank1.shape)\n",
    "\n",
    "row_rank2 = an_array[0:2, :]\n",
    "print(row_rank2, row_rank2.shape)\n",
    "\n",
    "col_rank1 = an_array[:, 1]\n",
    "print(col_rank1, col_rank1.shape)  # note extra []\n",
    "\n",
    "col_rank2 = an_array[:, 1:2]\n",
    "print(col_rank2, col_rank2.shape)  # note extra []\n",
    "\n",
    "# array indexing for modifying underline arrays\n",
    "an_array = np.array([[11, 12, 13, 14], [21, 22, 23, 24], [31, 32, 33, 34]])\n",
    "col_indices = np.array([0, 1, 2, 0])\n",
    "print(col_indices)\n",
    "\n",
    "row_indices = np.arange(4)\n",
    "print(row_indices)\n"
   ]
  },
  {
   "cell_type": "code",
   "execution_count": null,
   "metadata": {},
   "outputs": [],
   "source": []
  }
 ],
 "metadata": {
  "kernelspec": {
   "display_name": "Python 3",
   "language": "python",
   "name": "python3"
  },
  "language_info": {
   "codemirror_mode": {
    "name": "ipython",
    "version": 3
   },
   "file_extension": ".py",
   "mimetype": "text/x-python",
   "name": "python",
   "nbconvert_exporter": "python",
   "pygments_lexer": "ipython3",
   "version": "3.8.2"
  }
 },
 "nbformat": 4,
 "nbformat_minor": 4
}
